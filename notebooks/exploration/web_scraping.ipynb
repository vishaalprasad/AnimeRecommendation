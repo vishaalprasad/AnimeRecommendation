{
 "cells": [
  {
   "cell_type": "code",
   "execution_count": null,
   "metadata": {
    "collapsed": true,
    "deletable": true,
    "editable": true
   },
   "outputs": [],
   "source": [
    "import requests\n",
    "import numpy as np"
   ]
  },
  {
   "cell_type": "code",
   "execution_count": null,
   "metadata": {
    "collapsed": false,
    "deletable": true,
    "editable": true
   },
   "outputs": [],
   "source": [
    "username = 'username'\n",
    "query = 'https://myanimelist.net/malappinfo.php?u=%s&status=all&type=anime' % username\n",
    "r = requests.get(query)\n",
    "if r.status_code != requests.codes.ok:\n",
    "    print (\"Error processing request. Try again\")\n",
    "    import sys; sys.exit()"
   ]
  },
  {
   "cell_type": "code",
   "execution_count": null,
   "metadata": {
    "collapsed": false,
    "deletable": true,
    "editable": true
   },
   "outputs": [],
   "source": [
    "from lxml import etree\n",
    "doc = etree.fromstring(r.content)\n",
    "titles = doc.xpath('.//series_title/text()')\n",
    "ratings = doc.xpath('.//my_score/text()')"
   ]
  },
  {
   "cell_type": "code",
   "execution_count": null,
   "metadata": {
    "collapsed": true,
    "deletable": true,
    "editable": true
   },
   "outputs": [],
   "source": [
    "from itertools import compress\n",
    "mask = [rating != '0' for rating in ratings]\n",
    "seen_titles = list(compress(titles, mask))\n",
    "seen_ratings = list(map(int, compress(ratings, mask)))"
   ]
  },
  {
   "cell_type": "code",
   "execution_count": null,
   "metadata": {
    "collapsed": false,
    "deletable": true,
    "editable": true
   },
   "outputs": [],
   "source": [
    "uid = doc.xpath('.//user_id/text()')\n"
   ]
  },
  {
   "cell_type": "markdown",
   "metadata": {
    "deletable": true,
    "editable": true
   },
   "source": [
    "Use MAL credentials to get images. "
   ]
  },
  {
   "cell_type": "code",
   "execution_count": null,
   "metadata": {
    "collapsed": true,
    "deletable": true,
    "editable": true
   },
   "outputs": [],
   "source": [
    "username = 'username'\n",
    "password = 'password'"
   ]
  },
  {
   "cell_type": "markdown",
   "metadata": {
    "collapsed": false,
    "deletable": true,
    "editable": true
   },
   "source": [
    "Try getting image information for each show"
   ]
  },
  {
   "cell_type": "code",
   "execution_count": null,
   "metadata": {
    "collapsed": false,
    "deletable": true,
    "editable": true
   },
   "outputs": [],
   "source": [
    "import time\n",
    "\n",
    "for title in seen_titles:\n",
    "    title1 = \"+\".join( title.split() )\n",
    "    query = 'https://%s:%s@myanimelist.net/api/anime/search.xml?q=%s' % (username, password, title1)\n",
    "    r = requests.get(query)\n",
    "\n",
    "    while r.status_code != requests.codes.ok:\n",
    "        r = requests.get(query)\n",
    "        time.sleep(1.0)    # don't overload their server...\n",
    "\n",
    "\n",
    "    from PIL import Image\n",
    "    import urllib.request\n",
    "    import io\n",
    "\n",
    "    %matplotlib inline\n",
    "\n",
    "    with urllib.request.urlopen(URL) as url:\n",
    "        f = io.BytesIO(url.read())\n",
    "\n",
    "    img = Image.open(f, 'r')\n",
    "    width, height = img.size   # Get dimensions\n",
    "\n",
    "    print (title)\n"
   ]
  },
  {
   "cell_type": "code",
   "execution_count": null,
   "metadata": {
    "collapsed": false,
    "deletable": true,
    "editable": true
   },
   "outputs": [],
   "source": [
    "title = 'Amagami SS%2B Plus'\n",
    "title1 = \"+\".join( title.split() )\n",
    "query = 'https://%s:%s@myanimelist.net/api/anime/search.xml?q=%s' % (username, password, title1)\n",
    "r = requests.get(query)\n",
    "if r.status_code != requests.codes.ok:\n",
    "    r = requests.get(query)\n",
    "    print (\"Error processing request. Try again\")"
   ]
  },
  {
   "cell_type": "code",
   "execution_count": null,
   "metadata": {
    "collapsed": false,
    "deletable": true,
    "editable": true
   },
   "outputs": [],
   "source": [
    "from lxml import etree\n",
    "doc = etree.fromstring(r.content)\n",
    "image = doc.xpath('.//image/text()')\n",
    "URL = image[0]"
   ]
  },
  {
   "cell_type": "code",
   "execution_count": null,
   "metadata": {
    "collapsed": false,
    "deletable": true,
    "editable": true
   },
   "outputs": [],
   "source": [
    "from PIL import Image\n",
    "import urllib.request\n",
    "import io"
   ]
  },
  {
   "cell_type": "code",
   "execution_count": null,
   "metadata": {
    "collapsed": false,
    "deletable": true,
    "editable": true
   },
   "outputs": [],
   "source": [
    "%matplotlib inline\n",
    "\n",
    "with urllib.request.urlopen(URL) as url:\n",
    "    f = io.BytesIO(url.read())\n",
    "\n",
    "img = Image.open(f, 'r')\n",
    "img"
   ]
  },
  {
   "cell_type": "markdown",
   "metadata": {
    "deletable": true,
    "editable": true
   },
   "source": [
    "We'll need to crop the image if necessary."
   ]
  },
  {
   "cell_type": "code",
   "execution_count": null,
   "metadata": {
    "collapsed": true,
    "deletable": true,
    "editable": true
   },
   "outputs": [],
   "source": [
    "width, height = img.size   # Get dimensions\n",
    "new_width = 224\n",
    "new_height = 224"
   ]
  },
  {
   "cell_type": "code",
   "execution_count": null,
   "metadata": {
    "collapsed": false,
    "deletable": true,
    "editable": true
   },
   "outputs": [],
   "source": [
    "left = int((width - new_width)/2)\n",
    "top = int((height - new_height)/2)\n",
    "right = (left+ new_width)\n",
    "bottom = (top + new_height)\n",
    "\n",
    "cropped = np.array(img.crop((left, top, right, bottom)))\n",
    "img.crop((left, top, right, bottom))"
   ]
  },
  {
   "cell_type": "code",
   "execution_count": null,
   "metadata": {
    "collapsed": false,
    "deletable": true,
    "editable": true
   },
   "outputs": [],
   "source": [
    "np.shape(cropped)"
   ]
  },
  {
   "cell_type": "code",
   "execution_count": null,
   "metadata": {
    "collapsed": false,
    "deletable": true,
    "editable": true
   },
   "outputs": [],
   "source": [
    "img.crop((left, top, right, bottom)).size"
   ]
  },
  {
   "cell_type": "code",
   "execution_count": null,
   "metadata": {
    "collapsed": false,
    "deletable": true,
    "editable": true
   },
   "outputs": [],
   "source": [
    "title"
   ]
  }
 ],
 "metadata": {
  "kernelspec": {
   "display_name": "Python 3",
   "language": "python",
   "name": "python3"
  },
  "language_info": {
   "codemirror_mode": {
    "name": "ipython",
    "version": 3
   },
   "file_extension": ".py",
   "mimetype": "text/x-python",
   "name": "python",
   "nbconvert_exporter": "python",
   "pygments_lexer": "ipython3",
   "version": "3.6.1"
  }
 },
 "nbformat": 4,
 "nbformat_minor": 2
}
